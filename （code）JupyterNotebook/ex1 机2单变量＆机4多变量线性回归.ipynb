{
 "cells": [
  {
   "cell_type": "markdown",
   "id": "00cb83f5",
   "metadata": {},
   "source": [
    "# 机2单变量线性回归\n",
    "根据城市人口数量，预测开小吃店的利润\n",
    "数据在ex1data1.txt里，第一列是城市人口数量，第二列是该城市小吃店利润。"
   ]
  },
  {
   "cell_type": "code",
   "execution_count": 1,
   "id": "d5886917",
   "metadata": {},
   "outputs": [],
   "source": [
    "import numpy as np #Numpy是使用C语言实现的一个数据计算库，它用来处理相同类型，固定长度的元素。\n",
    "#使用numpy操作数据时，系统运行的速度比使用python代码快很多。numpy中还提供了很多的数据处理函数，例如傅里叶变化，矩阵操作，数据拟合等操作\n",
    "import pandas as pd #Pandas 是基于NumPy 的一种工具，该工具是为了解决数据分析任务而创建的。\n",
    "#Pandas纳入了大量库和一些标准的数据模型，提供了大量能使我们快速便捷地处理数据的函数和方法\n",
    "import matplotlib.pyplot as plt #2D绘图库。提供一个类似matlab的绘图框架"
   ]
  },
  {
   "cell_type": "code",
   "execution_count": 2,
   "id": "1f19f0c7",
   "metadata": {
    "scrolled": true
   },
   "outputs": [
    {
     "data": {
      "text/html": [
       "<div>\n",
       "<style scoped>\n",
       "    .dataframe tbody tr th:only-of-type {\n",
       "        vertical-align: middle;\n",
       "    }\n",
       "\n",
       "    .dataframe tbody tr th {\n",
       "        vertical-align: top;\n",
       "    }\n",
       "\n",
       "    .dataframe thead th {\n",
       "        text-align: right;\n",
       "    }\n",
       "</style>\n",
       "<table border=\"1\" class=\"dataframe\">\n",
       "  <thead>\n",
       "    <tr style=\"text-align: right;\">\n",
       "      <th></th>\n",
       "      <th>mins</th>\n",
       "      <th>findpicks</th>\n",
       "    </tr>\n",
       "  </thead>\n",
       "  <tbody>\n",
       "    <tr>\n",
       "      <th>0</th>\n",
       "      <td>443</td>\n",
       "      <td>50</td>\n",
       "    </tr>\n",
       "    <tr>\n",
       "      <th>1</th>\n",
       "      <td>436</td>\n",
       "      <td>51</td>\n",
       "    </tr>\n",
       "    <tr>\n",
       "      <th>2</th>\n",
       "      <td>437</td>\n",
       "      <td>50</td>\n",
       "    </tr>\n",
       "    <tr>\n",
       "      <th>3</th>\n",
       "      <td>441</td>\n",
       "      <td>48</td>\n",
       "    </tr>\n",
       "    <tr>\n",
       "      <th>4</th>\n",
       "      <td>433</td>\n",
       "      <td>47</td>\n",
       "    </tr>\n",
       "  </tbody>\n",
       "</table>\n",
       "</div>"
      ],
      "text/plain": [
       "   mins  findpicks\n",
       "0   443         50\n",
       "1   436         51\n",
       "2   437         50\n",
       "3   441         48\n",
       "4   433         47"
      ]
     },
     "execution_count": 2,
     "metadata": {},
     "output_type": "execute_result"
    }
   ],
   "source": [
    "data = pd.read_csv('data.txt', header=None, names=['mins', 'findpicks']) #header:指定标题行\n",
    "data.head() #head函数可以默认读取前5行的数据"
   ]
  },
  {
   "cell_type": "code",
   "execution_count": 29,
   "id": "1dd24737",
   "metadata": {
    "scrolled": false
   },
   "outputs": [
    {
     "data": {
      "image/png": "[encoded data removed]",
      "text/plain": [
       "<Figure size 720x720 with 1 Axes>"
      ]
     },
     "metadata": {
      "needs_background": "light"
     },
     "output_type": "display_data"
    }
   ],
   "source": [
    "data.plot(kind='scatter',title='1',x='findpicks',y='mins',figsize=(10,10)) #scatter:散点图 figsize：宽高\n",
    "plt.show()"
   ]
  },
  {
   "cell_type": "markdown",
   "id": "2e900a21",
   "metadata": {},
   "source": [
    "#### 梯度下降\n",
    "这个部分需要在现有数据集上，训练线性回归的参数θ"
   ]
  },
  {
   "cell_type": "code",
   "execution_count": 4,
   "id": "cfbb4915",
   "metadata": {},
   "outputs": [],
   "source": [
    "#定义costFunction\n",
    "def computeCost(X,y,theta): \n",
    "    inner=np.power((X*theta.T)-y,2) #power(x, y):计算 x 的 y 次方,theta.T:theta的转置\n",
    "    return np.sum(inner)/(2*len(X))  #len:字符串长度"
   ]
  },
  {
   "cell_type": "code",
   "execution_count": 5,
   "id": "b70482c2",
   "metadata": {},
   "outputs": [],
   "source": [
    "data.insert(0,'Ones',1) #在data的第0列插入1，名为Ones，用于更新θ0"
   ]
  },
  {
   "cell_type": "code",
   "execution_count": 6,
   "id": "028adaa3",
   "metadata": {},
   "outputs": [],
   "source": [
    "#变量初始化\n",
    "cols=data.shape[1] #读取data列数 若shape[0]则是行数\n",
    "X=data.iloc[:,:-1] #X是data里的除最后列，前面的冒号就是取行数，后面的冒号是取列数\n",
    "y=data.iloc[:,2:] #y是data最后一列 "
   ]
  },
  {
   "cell_type": "code",
   "execution_count": 7,
   "id": "18bffa35",
   "metadata": {},
   "outputs": [
    {
     "data": {
      "text/html": [
       "<div>\n",
       "<style scoped>\n",
       "    .dataframe tbody tr th:only-of-type {\n",
       "        vertical-align: middle;\n",
       "    }\n",
       "\n",
       "    .dataframe tbody tr th {\n",
       "        vertical-align: top;\n",
       "    }\n",
       "\n",
       "    .dataframe thead th {\n",
       "        text-align: right;\n",
       "    }\n",
       "</style>\n",
       "<table border=\"1\" class=\"dataframe\">\n",
       "  <thead>\n",
       "    <tr style=\"text-align: right;\">\n",
       "      <th></th>\n",
       "      <th>Ones</th>\n",
       "      <th>mins</th>\n",
       "    </tr>\n",
       "  </thead>\n",
       "  <tbody>\n",
       "    <tr>\n",
       "      <th>0</th>\n",
       "      <td>1</td>\n",
       "      <td>443</td>\n",
       "    </tr>\n",
       "    <tr>\n",
       "      <th>1</th>\n",
       "      <td>1</td>\n",
       "      <td>436</td>\n",
       "    </tr>\n",
       "    <tr>\n",
       "      <th>2</th>\n",
       "      <td>1</td>\n",
       "      <td>437</td>\n",
       "    </tr>\n",
       "    <tr>\n",
       "      <th>3</th>\n",
       "      <td>1</td>\n",
       "      <td>441</td>\n",
       "    </tr>\n",
       "    <tr>\n",
       "      <th>4</th>\n",
       "      <td>1</td>\n",
       "      <td>433</td>\n",
       "    </tr>\n",
       "  </tbody>\n",
       "</table>\n",
       "</div>"
      ],
      "text/plain": [
       "   Ones  mins\n",
       "0     1   443\n",
       "1     1   436\n",
       "2     1   437\n",
       "3     1   441\n",
       "4     1   433"
      ]
     },
     "execution_count": 7,
     "metadata": {},
     "output_type": "execute_result"
    }
   ],
   "source": [
    "X.head()"
   ]
  },
  {
   "cell_type": "code",
   "execution_count": 8,
   "id": "87b3a547",
   "metadata": {},
   "outputs": [
    {
     "data": {
      "text/html": [
       "<div>\n",
       "<style scoped>\n",
       "    .dataframe tbody tr th:only-of-type {\n",
       "        vertical-align: middle;\n",
       "    }\n",
       "\n",
       "    .dataframe tbody tr th {\n",
       "        vertical-align: top;\n",
       "    }\n",
       "\n",
       "    .dataframe thead th {\n",
       "        text-align: right;\n",
       "    }\n",
       "</style>\n",
       "<table border=\"1\" class=\"dataframe\">\n",
       "  <thead>\n",
       "    <tr style=\"text-align: right;\">\n",
       "      <th></th>\n",
       "      <th>findpicks</th>\n",
       "    </tr>\n",
       "  </thead>\n",
       "  <tbody>\n",
       "    <tr>\n",
       "      <th>0</th>\n",
       "      <td>50</td>\n",
       "    </tr>\n",
       "    <tr>\n",
       "      <th>1</th>\n",
       "      <td>51</td>\n",
       "    </tr>\n",
       "    <tr>\n",
       "      <th>2</th>\n",
       "      <td>50</td>\n",
       "    </tr>\n",
       "    <tr>\n",
       "      <th>3</th>\n",
       "      <td>48</td>\n",
       "    </tr>\n",
       "    <tr>\n",
       "      <th>4</th>\n",
       "      <td>47</td>\n",
       "    </tr>\n",
       "  </tbody>\n",
       "</table>\n",
       "</div>"
      ],
      "text/plain": [
       "   findpicks\n",
       "0         50\n",
       "1         51\n",
       "2         50\n",
       "3         48\n",
       "4         47"
      ]
     },
     "execution_count": 8,
     "metadata": {},
     "output_type": "execute_result"
    }
   ],
   "source": [
    "y.head()"
   ]
  },
  {
   "cell_type": "code",
   "execution_count": 9,
   "id": "5ce39990",
   "metadata": {},
   "outputs": [],
   "source": [
    "X=np.matrix(X.values) #用于从类数组对象或数据字符串返回矩阵\n",
    "y=np.matrix(y.values)\n",
    "theta=np.matrix(np.array([0,0]))"
   ]
  },
  {
   "cell_type": "code",
   "execution_count": 10,
   "id": "0717f97d",
   "metadata": {},
   "outputs": [
    {
     "data": {
      "text/plain": [
       "((110, 2), (110, 1), (1, 2), matrix([[0, 0]]))"
      ]
     },
     "execution_count": 10,
     "metadata": {},
     "output_type": "execute_result"
    }
   ],
   "source": [
    "X.shape,y.shape,theta.shape,theta"
   ]
  },
  {
   "cell_type": "code",
   "execution_count": 11,
   "id": "afcbcaf3",
   "metadata": {},
   "outputs": [
    {
     "data": {
      "text/plain": [
       "1876.1772727272728"
      ]
     },
     "execution_count": 11,
     "metadata": {},
     "output_type": "execute_result"
    }
   ],
   "source": [
    "computeCost(X,y,theta)"
   ]
  },
  {
   "cell_type": "markdown",
   "id": "ebd4bfe4",
   "metadata": {},
   "source": [
    "#### 梯度下降\n",
    "\n",
    "一个检查梯度下降是不是在正常运作的方式，是打印出每一步J()的值，看他是不是一直都在减小，并且最后收敛至一个稳定的值。\n",
    "最后的结果会用来预测小吃店在35000及70000人城市规模的利润"
   ]
  },
  {
   "cell_type": "code",
   "execution_count": 12,
   "id": "5f428ed4",
   "metadata": {},
   "outputs": [],
   "source": [
    "#θ更新\n",
    "def gradientDescent(X,y,theta,alpha,iters): #X:人口，y：利润，theta：[θ0，θ1]初始化为[0,0]，alpha:学习率，iters：迭代次数\n",
    "    temp=np.matrix(np.zeros(theta.shape)) #返回来一个theta形状和类型的用0填充的数组\n",
    "    parameters=int(theta.ravel().shape[1]) #将数组维度拉成一维数组，取列数（2），θ的数量\n",
    "    cost=np.zeros(iters) #初始化\n",
    "    \n",
    "    for i in range(iters): #迭代1500次\n",
    "        error=(X*theta.T)-y  #每次迭代都检查J（θ）的值\n",
    "        \n",
    "        for j in range(parameters):\n",
    "            term=np.multiply(error,X[:,j]) #j=0时相当于都*1\n",
    "            temp[0,j]=theta[0,j]-((alpha/len(X))*np.sum(term)) #len:字符串长度即m，更新θ\n",
    "            \n",
    "        theta=temp #确定本次迭代的θ\n",
    "        cost[i]=computeCost(X,y,theta)\n",
    "        \n",
    "    return theta,cost"
   ]
  },
  {
   "cell_type": "code",
   "execution_count": 13,
   "id": "d9754c32",
   "metadata": {},
   "outputs": [],
   "source": [
    "alpha=0.01\n",
    "iters=45"
   ]
  },
  {
   "cell_type": "code",
   "execution_count": 14,
   "id": "114d7dce",
   "metadata": {},
   "outputs": [
    {
     "data": {
      "text/plain": [
       "matrix([[1.40701726e+144, 6.16494214e+146]])"
      ]
     },
     "execution_count": 14,
     "metadata": {},
     "output_type": "execute_result"
    }
   ],
   "source": [
    "g,cost=gradientDescent(X,y,theta,alpha,iters)\n",
    "g"
   ]
  },
  {
   "cell_type": "code",
   "execution_count": 15,
   "id": "8a211929",
   "metadata": {},
   "outputs": [
    {
     "name": "stdout",
     "output_type": "stream",
     "text": [
      "predict1: [[2.15913677e+147]]\n",
      "predict2: [[4.31686652e+147]]\n"
     ]
    }
   ],
   "source": [
    "predict1=[1,3.5]*g.T\n",
    "print(\"predict1:\",predict1)\n",
    "predict2=[1,7]*g.T\n",
    "print(\"predict2:\",predict2)"
   ]
  },
  {
   "cell_type": "code",
   "execution_count": 16,
   "id": "dc291bcf",
   "metadata": {},
   "outputs": [
    {
     "data": {
      "text/plain": [
       "((110, 2), (110, 1))"
      ]
     },
     "execution_count": 16,
     "metadata": {},
     "output_type": "execute_result"
    }
   ],
   "source": [
    "X.shape,y.shape"
   ]
  },
  {
   "cell_type": "code",
   "execution_count": 31,
   "id": "649cd136",
   "metadata": {},
   "outputs": [
    {
     "data": {
      "text/plain": [
       "<function matplotlib.pyplot.show(close=None, block=None)>"
      ]
     },
     "execution_count": 31,
     "metadata": {},
     "output_type": "execute_result"
    },
    {
     "data": {
      "image/png": "[encoded data removed]",
      "text/plain": [
       "<Figure size 864x576 with 1 Axes>"
      ]
     },
     "metadata": {
      "needs_background": "light"
     },
     "output_type": "display_data"
    }
   ],
   "source": [
    "x=np.linspace(data.findpicks.min(),data.findpicks.max(),110) #创建等差数列\n",
    "f=g[0,0]+(g[0,1]*x)\n",
    "fig,ax=plt.subplots(figsize=(12,8)) #fig:绘图窗口(Figure),ax:绘图窗口上的坐标系(axis),figsize:子图的宽度和高度\n",
    "ax.plot(x,f,'r',label='pre') #'r':红线，label：定义图例\n",
    "ax.scatter(data.findpicks,data.mins,label='data') #散点图                                                                                                                                                                                                                                                                                                                                  \n",
    "ax.legend(loc=2) #在图上标明一个图例，用于说明每条曲线的文字显示，loc参数，用于控制图例的所在象限\n",
    "ax.set_xlabel('findpicks')\n",
    "ax.set_ylabel('mins')\n",
    "ax.set_title('1')\n",
    "plt.show\n"
   ]
  },
  {
   "cell_type": "code",
   "execution_count": 28,
   "id": "092a7d5f",
   "metadata": {},
   "outputs": [
    {
     "ename": "NameError",
     "evalue": "name 'mins' is not defined",
     "output_type": "error",
     "traceback": [
      "\u001b[1;31m---------------------------------------------------------------------------\u001b[0m",
      "\u001b[1;31mNameError\u001b[0m                                 Traceback (most recent call last)",
      "\u001b[1;32m<ipython-input-28-18cb3721a047>\u001b[0m in \u001b[0;36m<module>\u001b[1;34m\u001b[0m\n\u001b[1;32m----> 1\u001b[1;33m \u001b[0mmins\u001b[0m\u001b[1;33m\u001b[0m\u001b[1;33m\u001b[0m\u001b[0m\n\u001b[0m",
      "\u001b[1;31mNameError\u001b[0m: name 'mins' is not defined"
     ]
    }
   ],
   "source": [
    "mins"
   ]
  },
  {
   "cell_type": "markdown",
   "id": "b94bafdd",
   "metadata": {},
   "source": [
    "# 机4多变量线性回归"
   ]
  },
  {
   "cell_type": "code",
   "execution_count": 19,
   "id": "9bb57fbc",
   "metadata": {
    "scrolled": true
   },
   "outputs": [
    {
     "data": {
      "text/html": [
       "<div>\n",
       "<style scoped>\n",
       "    .dataframe tbody tr th:only-of-type {\n",
       "        vertical-align: middle;\n",
       "    }\n",
       "\n",
       "    .dataframe tbody tr th {\n",
       "        vertical-align: top;\n",
       "    }\n",
       "\n",
       "    .dataframe thead th {\n",
       "        text-align: right;\n",
       "    }\n",
       "</style>\n",
       "<table border=\"1\" class=\"dataframe\">\n",
       "  <thead>\n",
       "    <tr style=\"text-align: right;\">\n",
       "      <th></th>\n",
       "      <th>Size</th>\n",
       "      <th>Bedrooms</th>\n",
       "      <th>Price</th>\n",
       "    </tr>\n",
       "  </thead>\n",
       "  <tbody>\n",
       "    <tr>\n",
       "      <th>0</th>\n",
       "      <td>2104</td>\n",
       "      <td>3</td>\n",
       "      <td>399900</td>\n",
       "    </tr>\n",
       "    <tr>\n",
       "      <th>1</th>\n",
       "      <td>1600</td>\n",
       "      <td>3</td>\n",
       "      <td>329900</td>\n",
       "    </tr>\n",
       "    <tr>\n",
       "      <th>2</th>\n",
       "      <td>2400</td>\n",
       "      <td>3</td>\n",
       "      <td>369000</td>\n",
       "    </tr>\n",
       "    <tr>\n",
       "      <th>3</th>\n",
       "      <td>1416</td>\n",
       "      <td>2</td>\n",
       "      <td>232000</td>\n",
       "    </tr>\n",
       "    <tr>\n",
       "      <th>4</th>\n",
       "      <td>3000</td>\n",
       "      <td>4</td>\n",
       "      <td>539900</td>\n",
       "    </tr>\n",
       "  </tbody>\n",
       "</table>\n",
       "</div>"
      ],
      "text/plain": [
       "   Size  Bedrooms   Price\n",
       "0  2104         3  399900\n",
       "1  1600         3  329900\n",
       "2  2400         3  369000\n",
       "3  1416         2  232000\n",
       "4  3000         4  539900"
      ]
     },
     "execution_count": 19,
     "metadata": {},
     "output_type": "execute_result"
    }
   ],
   "source": [
    "data2=pd.read_csv('4.txt',header=None,names=['Size','Bedrooms','Price'])\n",
    "data2.head()"
   ]
  },
  {
   "cell_type": "markdown",
   "id": "db52717e",
   "metadata": {},
   "source": [
    "#### 特征归一化"
   ]
  },
  {
   "cell_type": "code",
   "execution_count": 20,
   "id": "fe68ccbe",
   "metadata": {},
   "outputs": [
    {
     "data": {
      "text/html": [
       "<div>\n",
       "<style scoped>\n",
       "    .dataframe tbody tr th:only-of-type {\n",
       "        vertical-align: middle;\n",
       "    }\n",
       "\n",
       "    .dataframe tbody tr th {\n",
       "        vertical-align: top;\n",
       "    }\n",
       "\n",
       "    .dataframe thead th {\n",
       "        text-align: right;\n",
       "    }\n",
       "</style>\n",
       "<table border=\"1\" class=\"dataframe\">\n",
       "  <thead>\n",
       "    <tr style=\"text-align: right;\">\n",
       "      <th></th>\n",
       "      <th>Size</th>\n",
       "      <th>Bedrooms</th>\n",
       "      <th>Price</th>\n",
       "    </tr>\n",
       "  </thead>\n",
       "  <tbody>\n",
       "    <tr>\n",
       "      <th>0</th>\n",
       "      <td>0.130010</td>\n",
       "      <td>-0.223675</td>\n",
       "      <td>0.475747</td>\n",
       "    </tr>\n",
       "    <tr>\n",
       "      <th>1</th>\n",
       "      <td>-0.504190</td>\n",
       "      <td>-0.223675</td>\n",
       "      <td>-0.084074</td>\n",
       "    </tr>\n",
       "    <tr>\n",
       "      <th>2</th>\n",
       "      <td>0.502476</td>\n",
       "      <td>-0.223675</td>\n",
       "      <td>0.228626</td>\n",
       "    </tr>\n",
       "    <tr>\n",
       "      <th>3</th>\n",
       "      <td>-0.735723</td>\n",
       "      <td>-1.537767</td>\n",
       "      <td>-0.867025</td>\n",
       "    </tr>\n",
       "    <tr>\n",
       "      <th>4</th>\n",
       "      <td>1.257476</td>\n",
       "      <td>1.090417</td>\n",
       "      <td>1.595389</td>\n",
       "    </tr>\n",
       "  </tbody>\n",
       "</table>\n",
       "</div>"
      ],
      "text/plain": [
       "       Size  Bedrooms     Price\n",
       "0  0.130010 -0.223675  0.475747\n",
       "1 -0.504190 -0.223675 -0.084074\n",
       "2  0.502476 -0.223675  0.228626\n",
       "3 -0.735723 -1.537767 -0.867025\n",
       "4  1.257476  1.090417  1.595389"
      ]
     },
     "execution_count": 20,
     "metadata": {},
     "output_type": "execute_result"
    }
   ],
   "source": [
    "#观察数据发现，size变量是bedrooms变量的1000倍大小,统一量级会让梯度下降收敛的更快。做法就是，将每类特征减去他的平均值后除以标准差\n",
    "data2=(data2-data2.mean())/data2.std() #std:计算标准差\n",
    "data2.head()"
   ]
  },
  {
   "cell_type": "code",
   "execution_count": 21,
   "id": "003b3d3f",
   "metadata": {},
   "outputs": [
    {
     "data": {
      "text/plain": [
       "matrix([[-4.27553973e-17,  2.90515255e-01,  1.24946003e-01]])"
      ]
     },
     "execution_count": 21,
     "metadata": {},
     "output_type": "execute_result"
    }
   ],
   "source": [
    "# 加一列常数项\n",
    "data2.insert(0, 'Ones', 1)\n",
    "\n",
    "# 初始化X和y\n",
    "cols = data2.shape[1]\n",
    "X2 = data2.iloc[:,0:cols-1]\n",
    "y2 = data2.iloc[:,cols-1:cols]\n",
    "\n",
    "# 转换成matrix格式，初始化theta\n",
    "X2 = np.matrix(X2.values)\n",
    "y2 = np.matrix(y2.values)\n",
    "theta2 = np.matrix(np.array([0,0,0]))\n",
    "\n",
    "# 运行梯度下降算法\n",
    "g2, cost2 = gradientDescent(X2, y2, theta2, alpha, iters)\n",
    "g2"
   ]
  },
  {
   "cell_type": "markdown",
   "id": "ec2d38e4",
   "metadata": {},
   "source": [
    "#### 正规方程"
   ]
  },
  {
   "cell_type": "code",
   "execution_count": 22,
   "id": "68f14a5b",
   "metadata": {},
   "outputs": [],
   "source": [
    "def normalEqn(X, y):\n",
    "    theta = np.linalg.inv(X.T@X)@X.T@y #X.T@X等价于X.T.dot(X)，np.linalg.inv()：矩阵求逆\n",
    "    return theta"
   ]
  },
  {
   "cell_type": "code",
   "execution_count": 23,
   "id": "f1d1f570",
   "metadata": {},
   "outputs": [
    {
     "data": {
      "text/plain": [
       "matrix([[-12.86663211],\n",
       "        [  0.16872326]])"
      ]
     },
     "execution_count": 23,
     "metadata": {},
     "output_type": "execute_result"
    }
   ],
   "source": [
    "final_theta2=normalEqn(X, y)#这里用的是data1的数据\n",
    "final_theta2"
   ]
  }
 ],
 "metadata": {
  "kernelspec": {
   "display_name": "Python 3",
   "language": "python",
   "name": "python3"
  },
  "language_info": {
   "codemirror_mode": {
    "name": "ipython",
    "version": 3
   },
   "file_extension": ".py",
   "mimetype": "text/x-python",
   "name": "python",
   "nbconvert_exporter": "python",
   "pygments_lexer": "ipython3",
   "version": "3.8.8"
  }
 },
 "nbformat": 4,
 "nbformat_minor": 5
}
