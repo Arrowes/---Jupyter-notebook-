{
 "cells": [
  {
   "cell_type": "markdown",
   "id": "00cb83f5",
   "metadata": {},
   "source": [
    "# 数据拟合\n"
   ]
  },
  {
   "cell_type": "code",
   "execution_count": 1,
   "id": "d5886917",
   "metadata": {},
   "outputs": [],
   "source": [
    "import numpy as np #Numpy是使用C语言实现的一个数据计算库，它用来处理相同类型，固定长度的元素。\n",
    "#使用numpy操作数据时，系统运行的速度比使用python代码快很多。numpy中还提供了很多的数据处理函数，例如傅里叶变化，矩阵操作，数据拟合等操作\n",
    "import pandas as pd #Pandas 是基于NumPy 的一种工具，该工具是为了解决数据分析任务而创建的。\n",
    "#Pandas纳入了大量库和一些标准的数据模型，提供了大量能使我们快速便捷地处理数据的函数和方法\n",
    "import matplotlib.pyplot as plt #2D绘图库。提供一个类似matlab的绘图框架"
   ]
  },
  {
   "cell_type": "code",
   "execution_count": 2,
   "id": "1f19f0c7",
   "metadata": {
    "scrolled": true
   },
   "outputs": [
    {
     "data": {
      "text/html": [
       "<div>\n",
       "<style scoped>\n",
       "    .dataframe tbody tr th:only-of-type {\n",
       "        vertical-align: middle;\n",
       "    }\n",
       "\n",
       "    .dataframe tbody tr th {\n",
       "        vertical-align: top;\n",
       "    }\n",
       "\n",
       "    .dataframe thead th {\n",
       "        text-align: right;\n",
       "    }\n",
       "</style>\n",
       "<table border=\"1\" class=\"dataframe\">\n",
       "  <thead>\n",
       "    <tr style=\"text-align: right;\">\n",
       "      <th></th>\n",
       "      <th>mins</th>\n",
       "      <th>findpicks</th>\n",
       "    </tr>\n",
       "  </thead>\n",
       "  <tbody>\n",
       "    <tr>\n",
       "      <th>0</th>\n",
       "      <td>443</td>\n",
       "      <td>50</td>\n",
       "    </tr>\n",
       "    <tr>\n",
       "      <th>1</th>\n",
       "      <td>436</td>\n",
       "      <td>51</td>\n",
       "    </tr>\n",
       "    <tr>\n",
       "      <th>2</th>\n",
       "      <td>437</td>\n",
       "      <td>50</td>\n",
       "    </tr>\n",
       "    <tr>\n",
       "      <th>3</th>\n",
       "      <td>441</td>\n",
       "      <td>48</td>\n",
       "    </tr>\n",
       "    <tr>\n",
       "      <th>4</th>\n",
       "      <td>433</td>\n",
       "      <td>47</td>\n",
       "    </tr>\n",
       "  </tbody>\n",
       "</table>\n",
       "</div>"
      ],
      "text/plain": [
       "   mins  findpicks\n",
       "0   443         50\n",
       "1   436         51\n",
       "2   437         50\n",
       "3   441         48\n",
       "4   433         47"
      ]
     },
     "execution_count": 2,
     "metadata": {},
     "output_type": "execute_result"
    }
   ],
   "source": [
    "data = pd.read_csv('data.txt', header=None, names=['mins', 'findpicks']) #header:指定标题行\n",
    "\n",
    "data.head()"
   ]
  },
  {
   "cell_type": "code",
   "execution_count": 3,
   "id": "ac385362",
   "metadata": {},
   "outputs": [
    {
     "data": {
      "text/html": [
       "<div>\n",
       "<style scoped>\n",
       "    .dataframe tbody tr th:only-of-type {\n",
       "        vertical-align: middle;\n",
       "    }\n",
       "\n",
       "    .dataframe tbody tr th {\n",
       "        vertical-align: top;\n",
       "    }\n",
       "\n",
       "    .dataframe thead th {\n",
       "        text-align: right;\n",
       "    }\n",
       "</style>\n",
       "<table border=\"1\" class=\"dataframe\">\n",
       "  <thead>\n",
       "    <tr style=\"text-align: right;\">\n",
       "      <th></th>\n",
       "      <th>mins</th>\n",
       "      <th>findpicks</th>\n",
       "    </tr>\n",
       "  </thead>\n",
       "  <tbody>\n",
       "    <tr>\n",
       "      <th>0</th>\n",
       "      <td>0.229953</td>\n",
       "      <td>-1.316733</td>\n",
       "    </tr>\n",
       "    <tr>\n",
       "      <th>1</th>\n",
       "      <td>-0.004258</td>\n",
       "      <td>-1.193883</td>\n",
       "    </tr>\n",
       "    <tr>\n",
       "      <th>2</th>\n",
       "      <td>0.029200</td>\n",
       "      <td>-1.316733</td>\n",
       "    </tr>\n",
       "    <tr>\n",
       "      <th>3</th>\n",
       "      <td>0.163035</td>\n",
       "      <td>-1.562434</td>\n",
       "    </tr>\n",
       "    <tr>\n",
       "      <th>4</th>\n",
       "      <td>-0.104634</td>\n",
       "      <td>-1.685284</td>\n",
       "    </tr>\n",
       "  </tbody>\n",
       "</table>\n",
       "</div>"
      ],
      "text/plain": [
       "       mins  findpicks\n",
       "0  0.229953  -1.316733\n",
       "1 -0.004258  -1.193883\n",
       "2  0.029200  -1.316733\n",
       "3  0.163035  -1.562434\n",
       "4 -0.104634  -1.685284"
      ]
     },
     "execution_count": 3,
     "metadata": {},
     "output_type": "execute_result"
    }
   ],
   "source": [
    "data=(data-data.mean())/data.std() #std:计算标准差\n",
    "data.head()"
   ]
  },
  {
   "cell_type": "code",
   "execution_count": 4,
   "id": "1dd24737",
   "metadata": {
    "scrolled": false
   },
   "outputs": [
    {
     "data": {
      "image/png": "[encoded data removed]",
      "text/plain": [
       "<Figure size 720x720 with 1 Axes>"
      ]
     },
     "metadata": {
      "needs_background": "light"
     },
     "output_type": "display_data"
    }
   ],
   "source": [
    "data.plot(kind='scatter',title='1',x='findpicks',y='mins',figsize=(10,10)) #scatter:散点图 figsize：宽高\n",
    "plt.show()"
   ]
  },
  {
   "cell_type": "markdown",
   "id": "2e900a21",
   "metadata": {},
   "source": [
    "#### 梯度下降\n",
    "这个部分需要在现有数据集上，训练线性回归的参数θ"
   ]
  },
  {
   "cell_type": "code",
   "execution_count": 5,
   "id": "cfbb4915",
   "metadata": {},
   "outputs": [],
   "source": [
    "#定义costFunction\n",
    "def computeCost(X,y,theta,reg): \n",
    "    inner=np.power((X*theta.T)-y,2) #power(x, y):计算 x 的 y 次方,theta.T:theta的转置\n",
    "    m = X.shape[0]\n",
    "    cost=np.sum(inner)/(2*len(X))\n",
    "    reg_term = (reg / (2 * m)) * np.power(theta[1:], 2).sum()\n",
    "    cost+=reg_term\n",
    "    return cost"
   ]
  },
  {
   "cell_type": "code",
   "execution_count": 6,
   "id": "b70482c2",
   "metadata": {},
   "outputs": [],
   "source": [
    "#data.insert(0,'Ones',1) #在data的第0列插入1，名为Ones，用于更新θ0"
   ]
  },
  {
   "cell_type": "code",
   "execution_count": 7,
   "id": "028adaa3",
   "metadata": {},
   "outputs": [],
   "source": [
    "#变量初始化\n",
    "cols=data.shape[1] #读取data列数 若shape[0]则是行数\n",
    "X=data.iloc[:,:-1] #X是data里的除最后列，前面的冒号就是取行数，后面的冒号是取列数\n",
    "y=data.iloc[:,1:] #y是data最后一列 "
   ]
  },
  {
   "cell_type": "code",
   "execution_count": 8,
   "id": "c50f3289",
   "metadata": {},
   "outputs": [
    {
     "data": {
      "text/html": [
       "<div>\n",
       "<style scoped>\n",
       "    .dataframe tbody tr th:only-of-type {\n",
       "        vertical-align: middle;\n",
       "    }\n",
       "\n",
       "    .dataframe tbody tr th {\n",
       "        vertical-align: top;\n",
       "    }\n",
       "\n",
       "    .dataframe thead th {\n",
       "        text-align: right;\n",
       "    }\n",
       "</style>\n",
       "<table border=\"1\" class=\"dataframe\">\n",
       "  <thead>\n",
       "    <tr style=\"text-align: right;\">\n",
       "      <th></th>\n",
       "      <th>mins</th>\n",
       "      <th>findpicks</th>\n",
       "    </tr>\n",
       "  </thead>\n",
       "  <tbody>\n",
       "    <tr>\n",
       "      <th>0</th>\n",
       "      <td>0.229953</td>\n",
       "      <td>-1.316733</td>\n",
       "    </tr>\n",
       "    <tr>\n",
       "      <th>1</th>\n",
       "      <td>-0.004258</td>\n",
       "      <td>-1.193883</td>\n",
       "    </tr>\n",
       "    <tr>\n",
       "      <th>2</th>\n",
       "      <td>0.029200</td>\n",
       "      <td>-1.316733</td>\n",
       "    </tr>\n",
       "    <tr>\n",
       "      <th>3</th>\n",
       "      <td>0.163035</td>\n",
       "      <td>-1.562434</td>\n",
       "    </tr>\n",
       "    <tr>\n",
       "      <th>4</th>\n",
       "      <td>-0.104634</td>\n",
       "      <td>-1.685284</td>\n",
       "    </tr>\n",
       "  </tbody>\n",
       "</table>\n",
       "</div>"
      ],
      "text/plain": [
       "       mins  findpicks\n",
       "0  0.229953  -1.316733\n",
       "1 -0.004258  -1.193883\n",
       "2  0.029200  -1.316733\n",
       "3  0.163035  -1.562434\n",
       "4 -0.104634  -1.685284"
      ]
     },
     "execution_count": 8,
     "metadata": {},
     "output_type": "execute_result"
    }
   ],
   "source": [
    "data.head() #head函数可以默认读取前5行的数据"
   ]
  },
  {
   "cell_type": "code",
   "execution_count": 9,
   "id": "18bffa35",
   "metadata": {},
   "outputs": [
    {
     "data": {
      "text/html": [
       "<div>\n",
       "<style scoped>\n",
       "    .dataframe tbody tr th:only-of-type {\n",
       "        vertical-align: middle;\n",
       "    }\n",
       "\n",
       "    .dataframe tbody tr th {\n",
       "        vertical-align: top;\n",
       "    }\n",
       "\n",
       "    .dataframe thead th {\n",
       "        text-align: right;\n",
       "    }\n",
       "</style>\n",
       "<table border=\"1\" class=\"dataframe\">\n",
       "  <thead>\n",
       "    <tr style=\"text-align: right;\">\n",
       "      <th></th>\n",
       "      <th>mins</th>\n",
       "    </tr>\n",
       "  </thead>\n",
       "  <tbody>\n",
       "    <tr>\n",
       "      <th>0</th>\n",
       "      <td>0.229953</td>\n",
       "    </tr>\n",
       "    <tr>\n",
       "      <th>1</th>\n",
       "      <td>-0.004258</td>\n",
       "    </tr>\n",
       "    <tr>\n",
       "      <th>2</th>\n",
       "      <td>0.029200</td>\n",
       "    </tr>\n",
       "    <tr>\n",
       "      <th>3</th>\n",
       "      <td>0.163035</td>\n",
       "    </tr>\n",
       "    <tr>\n",
       "      <th>4</th>\n",
       "      <td>-0.104634</td>\n",
       "    </tr>\n",
       "  </tbody>\n",
       "</table>\n",
       "</div>"
      ],
      "text/plain": [
       "       mins\n",
       "0  0.229953\n",
       "1 -0.004258\n",
       "2  0.029200\n",
       "3  0.163035\n",
       "4 -0.104634"
      ]
     },
     "execution_count": 9,
     "metadata": {},
     "output_type": "execute_result"
    }
   ],
   "source": [
    "X.head()"
   ]
  },
  {
   "cell_type": "code",
   "execution_count": 10,
   "id": "87b3a547",
   "metadata": {},
   "outputs": [
    {
     "data": {
      "text/html": [
       "<div>\n",
       "<style scoped>\n",
       "    .dataframe tbody tr th:only-of-type {\n",
       "        vertical-align: middle;\n",
       "    }\n",
       "\n",
       "    .dataframe tbody tr th {\n",
       "        vertical-align: top;\n",
       "    }\n",
       "\n",
       "    .dataframe thead th {\n",
       "        text-align: right;\n",
       "    }\n",
       "</style>\n",
       "<table border=\"1\" class=\"dataframe\">\n",
       "  <thead>\n",
       "    <tr style=\"text-align: right;\">\n",
       "      <th></th>\n",
       "      <th>findpicks</th>\n",
       "    </tr>\n",
       "  </thead>\n",
       "  <tbody>\n",
       "    <tr>\n",
       "      <th>0</th>\n",
       "      <td>-1.316733</td>\n",
       "    </tr>\n",
       "    <tr>\n",
       "      <th>1</th>\n",
       "      <td>-1.193883</td>\n",
       "    </tr>\n",
       "    <tr>\n",
       "      <th>2</th>\n",
       "      <td>-1.316733</td>\n",
       "    </tr>\n",
       "    <tr>\n",
       "      <th>3</th>\n",
       "      <td>-1.562434</td>\n",
       "    </tr>\n",
       "    <tr>\n",
       "      <th>4</th>\n",
       "      <td>-1.685284</td>\n",
       "    </tr>\n",
       "  </tbody>\n",
       "</table>\n",
       "</div>"
      ],
      "text/plain": [
       "   findpicks\n",
       "0  -1.316733\n",
       "1  -1.193883\n",
       "2  -1.316733\n",
       "3  -1.562434\n",
       "4  -1.685284"
      ]
     },
     "execution_count": 10,
     "metadata": {},
     "output_type": "execute_result"
    }
   ],
   "source": [
    "y.head()"
   ]
  },
  {
   "cell_type": "code",
   "execution_count": 11,
   "id": "5ce39990",
   "metadata": {},
   "outputs": [],
   "source": [
    "X=np.matrix(X.values) #用于从类数组对象或数据字符串返回矩阵\n",
    "y=np.matrix(y.values)\n",
    "theta=np.matrix(np.array([0,0]))"
   ]
  },
  {
   "cell_type": "code",
   "execution_count": 12,
   "id": "0717f97d",
   "metadata": {},
   "outputs": [
    {
     "data": {
      "text/plain": [
       "((110, 1), (110, 1), (1, 2), matrix([[0, 0]]))"
      ]
     },
     "execution_count": 12,
     "metadata": {},
     "output_type": "execute_result"
    }
   ],
   "source": [
    "X.shape,y.shape,theta.shape,theta"
   ]
  },
  {
   "cell_type": "code",
   "execution_count": 13,
   "id": "afcbcaf3",
   "metadata": {},
   "outputs": [],
   "source": [
    "#computeCost(X,y,theta,1)"
   ]
  },
  {
   "cell_type": "code",
   "execution_count": 14,
   "id": "5c09eac8",
   "metadata": {},
   "outputs": [],
   "source": [
    "#扩展特征\n",
    "#写一个函数，输入原始X，和幂的次数p，返回X的1到p次幂\n",
    "def poly_features(x, power, as_ndarray=False): #特征映射\n",
    "    data = {'f{}'.format(i): np.power(x, i) for i in range(1, power + 1)}\n",
    "    df = pd.DataFrame(data,index=[0]) #类似excel，是一种二维表。\n",
    "    return df.values if as_ndarray else df"
   ]
  },
  {
   "cell_type": "code",
   "execution_count": 15,
   "id": "e900e92b",
   "metadata": {},
   "outputs": [
    {
     "data": {
      "text/plain": [
       "matrix([[ 0.22995254],\n",
       "        [-0.00425838],\n",
       "        [ 0.02920032],\n",
       "        [ 0.16303513],\n",
       "        [-0.10463449],\n",
       "        [ 0.19649384],\n",
       "        [-0.13809319],\n",
       "        [-0.57305633],\n",
       "        [-1.07493687],\n",
       "        [-1.34260649],\n",
       "        [-1.57681741],\n",
       "        [-1.30914779],\n",
       "        [-1.4429826 ],\n",
       "        [-1.74411092],\n",
       "        [-1.61027611],\n",
       "        [-1.5433587 ],\n",
       "        [-0.63997373],\n",
       "        [ 0.16303513],\n",
       "        [-0.57305633],\n",
       "        [-0.70689114],\n",
       "        [ 0.76529178],\n",
       "        [-0.47268022],\n",
       "        [ 0.83220919],\n",
       "        [ 0.39724605],\n",
       "        [ 0.19649384],\n",
       "        [-0.77380854],\n",
       "        [ 1.06642011],\n",
       "        [ 1.40100713],\n",
       "        [ 1.26717232],\n",
       "        [ 0.16303513],\n",
       "        [ 0.83220919],\n",
       "        [ 0.39724605],\n",
       "        [ 1.16679621],\n",
       "        [ 0.46416346],\n",
       "        [ 0.39724605],\n",
       "        [-0.2050106 ],\n",
       "        [ 1.56830065],\n",
       "        [ 1.96980508],\n",
       "        [ 1.06642011],\n",
       "        [ 0.76529178],\n",
       "        [ 0.66491567],\n",
       "        [ 1.26717232],\n",
       "        [ 0.12957643],\n",
       "        [ 0.43070475],\n",
       "        [-1.30914779],\n",
       "        [-0.67343243],\n",
       "        [-1.71065222],\n",
       "        [ 1.40100713],\n",
       "        [ 1.23371362],\n",
       "        [ 1.06642011],\n",
       "        [ 0.83220919],\n",
       "        [ 0.49762216],\n",
       "        [ 0.49762216],\n",
       "        [ 0.66491567],\n",
       "        [ 0.43070475],\n",
       "        [ 0.73183308],\n",
       "        [ 0.43070475],\n",
       "        [ 0.49762216],\n",
       "        [ 1.16679621],\n",
       "        [-0.13809319],\n",
       "        [-0.67343243],\n",
       "        [ 1.30063103],\n",
       "        [-0.57305633],\n",
       "        [ 0.29686994],\n",
       "        [ 0.39724605],\n",
       "        [ 0.33032865],\n",
       "        [ 0.36378735],\n",
       "        [ 0.12957643],\n",
       "        [ 0.36378735],\n",
       "        [-0.03771708],\n",
       "        [-0.2384693 ],\n",
       "        [ 1.23371362],\n",
       "        [ 1.50138324],\n",
       "        [ 0.43070475],\n",
       "        [ 0.39724605],\n",
       "        [ 0.66491567],\n",
       "        [ 0.26341124],\n",
       "        [ 0.19649384],\n",
       "        [ 0.22995254],\n",
       "        [ 0.76529178],\n",
       "        [-0.40576281],\n",
       "        [ 1.0329614 ],\n",
       "        [ 1.50138324],\n",
       "        [ 0.19649384],\n",
       "        [ 0.36378735],\n",
       "        [ 0.53108086],\n",
       "        [ 0.33032865],\n",
       "        [ 0.86566789],\n",
       "        [-0.13809319],\n",
       "        [ 0.966044  ],\n",
       "        [ 0.63145697],\n",
       "        [ 0.43070475],\n",
       "        [ 0.36378735],\n",
       "        [ 0.19649384],\n",
       "        [-0.3053867 ],\n",
       "        [ 0.53108086],\n",
       "        [ 0.16303513],\n",
       "        [-0.50613892],\n",
       "        [-1.34260649],\n",
       "        [-1.5433587 ],\n",
       "        [-1.57681741],\n",
       "        [-1.74411092],\n",
       "        [-1.81102833],\n",
       "        [-1.97832184],\n",
       "        [-1.84448703],\n",
       "        [-2.04523925],\n",
       "        [-2.24599146],\n",
       "        [-1.84448703],\n",
       "        [-2.01178054],\n",
       "        [-1.87794573]])"
      ]
     },
     "execution_count": 15,
     "metadata": {},
     "output_type": "execute_result"
    }
   ],
   "source": [
    "X"
   ]
  },
  {
   "cell_type": "code",
   "execution_count": 16,
   "id": "d682e21f",
   "metadata": {
    "scrolled": true
   },
   "outputs": [],
   "source": [
    "X=np.ravel(X)\n",
    "#ravel：扁平化函数\n",
    "#poly_features(X, power=3)\n",
    "X=np.power(X,3)"
   ]
  },
  {
   "cell_type": "code",
   "execution_count": 17,
   "id": "20dec4ad",
   "metadata": {},
   "outputs": [
    {
     "data": {
      "text/plain": [
       "array([ 1.21594694e-02, -7.72206309e-08,  2.48979126e-05,  4.33354796e-03,\n",
       "       -1.14557774e-03,  7.58659312e-03, -2.63339979e-03, -1.88188003e-01,\n",
       "       -1.24207801e+00, -2.42017196e+00, -3.92052491e+00, -2.24370640e+00,\n",
       "       -3.00457659e+00, -5.30545096e+00, -4.17542848e+00, -3.67621267e+00,\n",
       "       -2.62111723e-01,  4.33354796e-03, -1.88188003e-01, -3.53230023e-01,\n",
       "        4.48209595e-01, -1.05609329e-01,  5.76364891e-01,  6.26871852e-02,\n",
       "        7.58659312e-03, -4.63340816e-01,  1.21278823e+00,  2.74992621e+00,\n",
       "        2.03473116e+00,  4.33354796e-03,  5.76364891e-01,  6.26871852e-02,\n",
       "        1.58849201e+00,  1.00002956e-01,  6.26871852e-02, -8.61646103e-03,\n",
       "        3.85734039e+00,  7.64310382e+00,  1.21278823e+00,  4.48209595e-01,\n",
       "        2.93967766e-01,  2.03473116e+00,  2.17559492e-03,  7.98985686e-02,\n",
       "       -2.24370640e+00, -3.05409181e-01, -5.00593464e+00,  2.74992621e+00,\n",
       "        1.87777295e+00,  1.21278823e+00,  5.76364891e-01,  1.23225088e-01,\n",
       "        1.23225088e-01,  2.93967766e-01,  7.98985686e-02,  3.91954909e-01,\n",
       "        7.98985686e-02,  1.23225088e-01,  1.58849201e+00, -2.63339979e-03,\n",
       "       -3.05409181e-01,  2.20020085e+00, -1.88188003e-01,  2.61636717e-02,\n",
       "        6.26871852e-02,  3.60444758e-02,  4.81440673e-02,  2.17559492e-03,\n",
       "        4.81440673e-02, -5.36555059e-05, -1.35611783e-02,  1.87777295e+00,\n",
       "        3.38434549e+00,  7.98985686e-02,  6.26871852e-02,  2.93967766e-01,\n",
       "        1.82769160e-02,  7.58659312e-03,  1.21594694e-02,  4.48209595e-01,\n",
       "       -6.68061935e-02,  1.10217938e+00,  3.38434549e+00,  7.58659312e-03,\n",
       "        4.81440673e-02,  1.49789702e-01,  3.60444758e-02,  6.48714979e-01,\n",
       "       -2.63339979e-03,  9.01551873e-01,  2.51785831e-01,  7.98985686e-02,\n",
       "        4.81440673e-02,  7.58659312e-03, -2.84806815e-02,  1.49789702e-01,\n",
       "        4.33354796e-03, -1.29660952e-01, -2.42017196e+00, -3.67621267e+00,\n",
       "       -3.92052491e+00, -5.30545096e+00, -5.93985344e+00, -7.74267155e+00,\n",
       "       -6.27518908e+00, -8.55524307e+00, -1.13298537e+01, -6.27518908e+00,\n",
       "       -8.14220083e+00, -6.62291398e+00])"
      ]
     },
     "execution_count": 17,
     "metadata": {},
     "output_type": "execute_result"
    }
   ],
   "source": [
    "X"
   ]
  },
  {
   "cell_type": "markdown",
   "id": "ebd4bfe4",
   "metadata": {},
   "source": [
    "#### 梯度下降\n",
    "\n",
    "一个检查梯度下降是不是在正常运作的方式，是打印出每一步J()的值，看他是不是一直都在减小，并且最后收敛至一个稳定的值。\n",
    "最后的结果会用来预测小吃店在35000及70000人城市规模的利润"
   ]
  },
  {
   "cell_type": "code",
   "execution_count": 32,
   "id": "5f428ed4",
   "metadata": {},
   "outputs": [],
   "source": [
    "def gradient(theta, X, y,reg):\n",
    "    m = X.shape[0]\n",
    "\n",
    "    inner = (1/m)*X.T @ (X @ theta - y)  # (m,n).T @ (m, 1) -> (n, 1)\n",
    "    \n",
    "    regularized_term = theta.copy()  # same shape as theta\n",
    "    regularized_term[0] = 0  # don't regularize intercept theta\n",
    "    regularized_term = (reg / m) * regularized_term\n",
    "    inner+=regularized_term\n",
    "\n",
    "\n",
    "    return inner"
   ]
  },
  {
   "cell_type": "code",
   "execution_count": 34,
   "id": "d9754c32",
   "metadata": {},
   "outputs": [
    {
     "ename": "ValueError",
     "evalue": "matmul: Input operand 1 has a mismatch in its core dimension 0, with gufunc signature (n?,k),(k,m?)->(n?,m?) (size 1 is different from 110)",
     "output_type": "error",
     "traceback": [
      "\u001b[1;31m---------------------------------------------------------------------------\u001b[0m",
      "\u001b[1;31mValueError\u001b[0m                                Traceback (most recent call last)",
      "\u001b[1;32m<ipython-input-34-cc2c54a4ab55>\u001b[0m in \u001b[0;36m<module>\u001b[1;34m\u001b[0m\n\u001b[1;32m----> 1\u001b[1;33m \u001b[0mgradient\u001b[0m\u001b[1;33m(\u001b[0m\u001b[0mtheta\u001b[0m\u001b[1;33m,\u001b[0m \u001b[0mX\u001b[0m\u001b[1;33m,\u001b[0m \u001b[0my\u001b[0m\u001b[1;33m,\u001b[0m \u001b[1;36m1\u001b[0m\u001b[1;33m)\u001b[0m\u001b[1;33m\u001b[0m\u001b[1;33m\u001b[0m\u001b[0m\n\u001b[0m",
      "\u001b[1;32m<ipython-input-32-f33a6ceed1bf>\u001b[0m in \u001b[0;36mgradient\u001b[1;34m(theta, X, y, reg)\u001b[0m\n\u001b[0;32m      2\u001b[0m     \u001b[0mm\u001b[0m \u001b[1;33m=\u001b[0m \u001b[0mX\u001b[0m\u001b[1;33m.\u001b[0m\u001b[0mshape\u001b[0m\u001b[1;33m[\u001b[0m\u001b[1;36m0\u001b[0m\u001b[1;33m]\u001b[0m\u001b[1;33m\u001b[0m\u001b[1;33m\u001b[0m\u001b[0m\n\u001b[0;32m      3\u001b[0m \u001b[1;33m\u001b[0m\u001b[0m\n\u001b[1;32m----> 4\u001b[1;33m     \u001b[0minner\u001b[0m \u001b[1;33m=\u001b[0m \u001b[1;33m(\u001b[0m\u001b[1;36m1\u001b[0m\u001b[1;33m/\u001b[0m\u001b[0mm\u001b[0m\u001b[1;33m)\u001b[0m\u001b[1;33m*\u001b[0m\u001b[0mX\u001b[0m\u001b[1;33m.\u001b[0m\u001b[0mT\u001b[0m \u001b[1;33m@\u001b[0m \u001b[1;33m(\u001b[0m\u001b[0mX\u001b[0m \u001b[1;33m@\u001b[0m \u001b[0mtheta\u001b[0m \u001b[1;33m-\u001b[0m \u001b[0my\u001b[0m\u001b[1;33m)\u001b[0m  \u001b[1;31m# (m,n).T @ (m, 1) -> (n, 1)\u001b[0m\u001b[1;33m\u001b[0m\u001b[1;33m\u001b[0m\u001b[0m\n\u001b[0m\u001b[0;32m      5\u001b[0m \u001b[1;33m\u001b[0m\u001b[0m\n\u001b[0;32m      6\u001b[0m     \u001b[0mregularized_term\u001b[0m \u001b[1;33m=\u001b[0m \u001b[0mtheta\u001b[0m\u001b[1;33m.\u001b[0m\u001b[0mcopy\u001b[0m\u001b[1;33m(\u001b[0m\u001b[1;33m)\u001b[0m  \u001b[1;31m# same shape as theta\u001b[0m\u001b[1;33m\u001b[0m\u001b[1;33m\u001b[0m\u001b[0m\n",
      "\u001b[1;31mValueError\u001b[0m: matmul: Input operand 1 has a mismatch in its core dimension 0, with gufunc signature (n?,k),(k,m?)->(n?,m?) (size 1 is different from 110)"
     ]
    }
   ],
   "source": [
    "gradient(theta, X, y, 1)"
   ]
  },
  {
   "cell_type": "code",
   "execution_count": 20,
   "id": "114d7dce",
   "metadata": {
    "scrolled": true
   },
   "outputs": [
    {
     "ename": "ValueError",
     "evalue": "shapes (110,) and (2,1) not aligned: 110 (dim 0) != 2 (dim 0)",
     "output_type": "error",
     "traceback": [
      "\u001b[1;31m---------------------------------------------------------------------------\u001b[0m",
      "\u001b[1;31mValueError\u001b[0m                                Traceback (most recent call last)",
      "\u001b[1;32m<ipython-input-20-bc848e454d3e>\u001b[0m in \u001b[0;36m<module>\u001b[1;34m\u001b[0m\n\u001b[1;32m----> 1\u001b[1;33m \u001b[0mg\u001b[0m\u001b[1;33m,\u001b[0m\u001b[0mcost\u001b[0m\u001b[1;33m=\u001b[0m\u001b[0mgradientDescent\u001b[0m\u001b[1;33m(\u001b[0m\u001b[0mX\u001b[0m\u001b[1;33m,\u001b[0m\u001b[0my\u001b[0m\u001b[1;33m,\u001b[0m\u001b[0mtheta\u001b[0m\u001b[1;33m,\u001b[0m\u001b[0malpha\u001b[0m\u001b[1;33m,\u001b[0m\u001b[0miters\u001b[0m\u001b[1;33m)\u001b[0m\u001b[1;33m\u001b[0m\u001b[1;33m\u001b[0m\u001b[0m\n\u001b[0m\u001b[0;32m      2\u001b[0m \u001b[0mg\u001b[0m\u001b[1;33m\u001b[0m\u001b[1;33m\u001b[0m\u001b[0m\n",
      "\u001b[1;32m<ipython-input-18-61cecf855779>\u001b[0m in \u001b[0;36mgradientDescent\u001b[1;34m(X, y, theta, alpha, iters)\u001b[0m\n\u001b[0;32m      6\u001b[0m \u001b[1;33m\u001b[0m\u001b[0m\n\u001b[0;32m      7\u001b[0m     \u001b[1;32mfor\u001b[0m \u001b[0mi\u001b[0m \u001b[1;32min\u001b[0m \u001b[0mrange\u001b[0m\u001b[1;33m(\u001b[0m\u001b[0miters\u001b[0m\u001b[1;33m)\u001b[0m\u001b[1;33m:\u001b[0m \u001b[1;31m#迭代1500次\u001b[0m\u001b[1;33m\u001b[0m\u001b[1;33m\u001b[0m\u001b[0m\n\u001b[1;32m----> 8\u001b[1;33m         \u001b[0merror\u001b[0m\u001b[1;33m=\u001b[0m\u001b[1;33m(\u001b[0m\u001b[0mX\u001b[0m\u001b[1;33m*\u001b[0m\u001b[0mtheta\u001b[0m\u001b[1;33m.\u001b[0m\u001b[0mT\u001b[0m\u001b[1;33m)\u001b[0m\u001b[1;33m-\u001b[0m\u001b[0my\u001b[0m  \u001b[1;31m#每次迭代都检查J（θ）的值\u001b[0m\u001b[1;33m\u001b[0m\u001b[1;33m\u001b[0m\u001b[0m\n\u001b[0m\u001b[0;32m      9\u001b[0m \u001b[1;33m\u001b[0m\u001b[0m\n\u001b[0;32m     10\u001b[0m         \u001b[1;32mfor\u001b[0m \u001b[0mj\u001b[0m \u001b[1;32min\u001b[0m \u001b[0mrange\u001b[0m\u001b[1;33m(\u001b[0m\u001b[0mparameters\u001b[0m\u001b[1;33m)\u001b[0m\u001b[1;33m:\u001b[0m\u001b[1;33m\u001b[0m\u001b[1;33m\u001b[0m\u001b[0m\n",
      "\u001b[1;32mD:\\Anaconda3\\lib\\site-packages\\numpy\\matrixlib\\defmatrix.py\u001b[0m in \u001b[0;36m__rmul__\u001b[1;34m(self, other)\u001b[0m\n\u001b[0;32m    222\u001b[0m \u001b[1;33m\u001b[0m\u001b[0m\n\u001b[0;32m    223\u001b[0m     \u001b[1;32mdef\u001b[0m \u001b[0m__rmul__\u001b[0m\u001b[1;33m(\u001b[0m\u001b[0mself\u001b[0m\u001b[1;33m,\u001b[0m \u001b[0mother\u001b[0m\u001b[1;33m)\u001b[0m\u001b[1;33m:\u001b[0m\u001b[1;33m\u001b[0m\u001b[1;33m\u001b[0m\u001b[0m\n\u001b[1;32m--> 224\u001b[1;33m         \u001b[1;32mreturn\u001b[0m \u001b[0mN\u001b[0m\u001b[1;33m.\u001b[0m\u001b[0mdot\u001b[0m\u001b[1;33m(\u001b[0m\u001b[0mother\u001b[0m\u001b[1;33m,\u001b[0m \u001b[0mself\u001b[0m\u001b[1;33m)\u001b[0m\u001b[1;33m\u001b[0m\u001b[1;33m\u001b[0m\u001b[0m\n\u001b[0m\u001b[0;32m    225\u001b[0m \u001b[1;33m\u001b[0m\u001b[0m\n\u001b[0;32m    226\u001b[0m     \u001b[1;32mdef\u001b[0m \u001b[0m__imul__\u001b[0m\u001b[1;33m(\u001b[0m\u001b[0mself\u001b[0m\u001b[1;33m,\u001b[0m \u001b[0mother\u001b[0m\u001b[1;33m)\u001b[0m\u001b[1;33m:\u001b[0m\u001b[1;33m\u001b[0m\u001b[1;33m\u001b[0m\u001b[0m\n",
      "\u001b[1;32m<__array_function__ internals>\u001b[0m in \u001b[0;36mdot\u001b[1;34m(*args, **kwargs)\u001b[0m\n",
      "\u001b[1;31mValueError\u001b[0m: shapes (110,) and (2,1) not aligned: 110 (dim 0) != 2 (dim 0)"
     ]
    }
   ],
   "source": [
    "g,cost=gradientDescent(X,y,theta,alpha,iters)\n",
    "g"
   ]
  },
  {
   "cell_type": "code",
   "execution_count": null,
   "id": "8a211929",
   "metadata": {},
   "outputs": [],
   "source": [
    "predict1=[1,3.5]*g.T\n",
    "print(\"predict1:\",predict1)\n",
    "predict2=[1,7]*g.T\n",
    "print(\"predict2:\",predict2)"
   ]
  },
  {
   "cell_type": "code",
   "execution_count": null,
   "id": "649cd136",
   "metadata": {
    "scrolled": false
   },
   "outputs": [],
   "source": [
    "x=np.linspace(data.findpicks.min(),data.findpicks.max(),110) #创建等差数列\n",
    "f=g[0,0]+(g[0,1]*x)\n",
    "fig,ax=plt.subplots(figsize=(12,8)) #fig:绘图窗口(Figure),ax:绘图窗口上的坐标系(axis),figsize:子图的宽度和高度\n",
    "ax.plot(x,f,'r',label='pre') #'r':红线，label：定义图例\n",
    "ax.scatter(data.findpicks,data.mins,label='data') #散点图                                                                                                                                                                                                                                                                                                                                  \n",
    "ax.legend(loc=2) #在图上标明一个图例，用于说明每条曲线的文字显示，loc参数，用于控制图例的所在象限\n",
    "ax.set_xlabel('findpicks')\n",
    "ax.set_ylabel('mins')\n",
    "ax.set_title('1')\n",
    "plt.show\n"
   ]
  },
  {
   "cell_type": "markdown",
   "id": "b94bafdd",
   "metadata": {},
   "source": [
    "# 机4多变量线性回归"
   ]
  },
  {
   "cell_type": "code",
   "execution_count": null,
   "id": "9bb57fbc",
   "metadata": {
    "scrolled": true
   },
   "outputs": [],
   "source": [
    "data2=pd.read_csv('4.txt',header=None,names=['Size','Bedrooms','Price'])\n",
    "data2.head()"
   ]
  },
  {
   "cell_type": "markdown",
   "id": "db52717e",
   "metadata": {},
   "source": [
    "#### 特征归一化"
   ]
  },
  {
   "cell_type": "code",
   "execution_count": null,
   "id": "fe68ccbe",
   "metadata": {},
   "outputs": [],
   "source": [
    "#观察数据发现，size变量是bedrooms变量的1000倍大小,统一量级会让梯度下降收敛的更快。做法就是，将每类特征减去他的平均值后除以标准差\n",
    "data2=(data2-data2.mean())/data2.std() #std:计算标准差\n",
    "data2.head()"
   ]
  },
  {
   "cell_type": "code",
   "execution_count": null,
   "id": "003b3d3f",
   "metadata": {},
   "outputs": [],
   "source": [
    "# 加一列常数项\n",
    "data2.insert(0, 'Ones', 1)\n",
    "\n",
    "# 初始化X和y\n",
    "cols = data2.shape[1]\n",
    "X2 = data2.iloc[:,0:cols-1]\n",
    "y2 = data2.iloc[:,cols-1:cols]\n",
    "\n",
    "# 转换成matrix格式，初始化theta\n",
    "X2 = np.matrix(X2.values)\n",
    "y2 = np.matrix(y2.values)\n",
    "theta2 = np.matrix(np.array([0,0,0]))\n",
    "\n",
    "# 运行梯度下降算法\n",
    "g2, cost2 = gradientDescent(X2, y2, theta2, alpha, iters)\n",
    "g2"
   ]
  },
  {
   "cell_type": "markdown",
   "id": "ec2d38e4",
   "metadata": {},
   "source": [
    "#### 正规方程"
   ]
  },
  {
   "cell_type": "code",
   "execution_count": null,
   "id": "68f14a5b",
   "metadata": {},
   "outputs": [],
   "source": [
    "def normalEqn(X, y):\n",
    "    theta = np.linalg.inv(X.T@X)@X.T@y #X.T@X等价于X.T.dot(X)，np.linalg.inv()：矩阵求逆\n",
    "    return theta"
   ]
  },
  {
   "cell_type": "code",
   "execution_count": null,
   "id": "f1d1f570",
   "metadata": {},
   "outputs": [],
   "source": [
    "final_theta2=normalEqn(X, y)#这里用的是data1的数据\n",
    "final_theta2"
   ]
  }
 ],
 "metadata": {
  "kernelspec": {
   "display_name": "Python 3",
   "language": "python",
   "name": "python3"
  },
  "language_info": {
   "codemirror_mode": {
    "name": "ipython",
    "version": 3
   },
   "file_extension": ".py",
   "mimetype": "text/x-python",
   "name": "python",
   "nbconvert_exporter": "python",
   "pygments_lexer": "ipython3",
   "version": "3.8.8"
  }
 },
 "nbformat": 4,
 "nbformat_minor": 5
}
